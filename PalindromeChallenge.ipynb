{
 "cells": [
  {
   "cell_type": "markdown",
   "metadata": {},
   "source": [
    "# Palindrome Challenge By Morgan Wells\n",
    "\n",
    "Runs externally at https://mybinder.org/v2/gh/Morga2/Task-One/master?filepath=PalindromeChallenge.ipynb\n",
    "\n",
    "When Jupyter Notebook opens select the cell with the code and then select the Run button on the top menu.\n",
    "\n",
    "\n",
    "## Input:\n",
    "\n",
    "1. User enters a word that they want to know if its a palindrome (entry of word)\n",
    "\n",
    "## Output:\n",
    "\n",
    "1. A palindrome (\"This is a palindrome\") \n",
    "2. Not a palindrome (\"This word is not a pallindrome\")\n",
    "3. Error \n",
    "\n",
    "## Reference: \n",
    "\n",
    "* Reverse a string in Python, (n.d.) Available At: https://stackoverflow.com/questions/931092/reverse-a-string-in-python Accessed: 30-3-19 \n"
   ]
  },
  {
   "cell_type": "code",
   "execution_count": 1,
   "metadata": {},
   "outputs": [
    {
     "name": "stdout",
     "output_type": "stream",
     "text": [
      "Enter a word: wsedgdsfgds\n",
      "This word is not a pallindrome\n"
     ]
    }
   ],
   "source": [
    "# Imported Modules:\n",
    "\n",
    "import re # This is a module that has a set of commands to help you with regular expressions\n",
    "\n",
    "# Setting Variables:\n",
    "\n",
    "input_word = \"\" # input_word is the variable to store the users word to test\n",
    "\n",
    "# Getting the user input:\n",
    "\n",
    "input_word = input(\"Enter a word: \") # Capturing the word that the user is typing and putting it into the input_word container\n",
    "\n",
    "# Checking for spaces or non A to Z characters:\n",
    "\n",
    "pattern = re.compile('[^a-zA-Z]') # Here I am creating a regular expreesion that tests for anything that inst a letter\n",
    "if (pattern.findall(input_word)):\n",
    "    print('The word must contain only letters not numbers, spaces or characters')\n",
    "\n",
    "# Converting all to lowercase letters:\n",
    "\n",
    "lowercase_word = input_word.lower() # Taking the input_word changing this to lower case and then putting it into the lowercase_ word\n",
    "\n",
    "# Reversing the input:\n",
    "\n",
    "reverse_word = lowercase_word[::-1] # Reversing the characters of the word in the string lowercase_word\n",
    "\n",
    "# Testing to see if input equals reverse of input: \n",
    "\n",
    "if (lowercase_word == reverse_word): # Comparing whats in the lowercase_word container and the reverse_word container to see if its a palindrome\n",
    "    print(\"This word is a pallindrome\")\n",
    "else: \n",
    "    print(\"This word is not a pallindrome\")\n"
   ]
  },
  {
   "cell_type": "markdown",
   "metadata": {},
   "source": [
    "## Data Tests:\n",
    "\n",
    "* Bad Tests (Not a palindrome): Cat, Nap, hello, goodbye \n",
    "* Good Tests (a palindrome): rotor, Rotor\n",
    "* Error (somethings wrong): Hell o"
   ]
  }
 ],
 "metadata": {
  "kernelspec": {
   "display_name": "Python 3",
   "language": "python",
   "name": "python3"
  },
  "language_info": {
   "codemirror_mode": {
    "name": "ipython",
    "version": 3
   },
   "file_extension": ".py",
   "mimetype": "text/x-python",
   "name": "python",
   "nbconvert_exporter": "python",
   "pygments_lexer": "ipython3",
   "version": "3.7.1"
  }
 },
 "nbformat": 4,
 "nbformat_minor": 2
}
