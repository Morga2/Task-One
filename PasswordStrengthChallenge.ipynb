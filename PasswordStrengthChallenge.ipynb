{
 "cells": [
  {
   "cell_type": "markdown",
   "metadata": {},
   "source": [
    "# Password Strength Challenge By Morgan Wells\n",
    "\n",
    "Runs externally at https://mybinder.org/v2/gh/Morga2/Task-One/master?filepath=PasswordStrengthChallenge.ipynb\n",
    "\n",
    "When Jupyter opens select the cell with the code and then select the Run button in the top menu\n",
    "\n",
    "## Input: \n",
    "\n",
    "1. Password as String\n",
    "\n",
    "## Outputs: \n",
    "\n",
    "1. Is Password Valid\n",
    "2. What is the Password Strength - Poor Strength, Good Strength, Excellent Strength\n",
    "3. Message, Error and what criteria is not met, or success message\n",
    " \n",
    "## References: \n",
    "\n",
    "* Python Standard Library, (n.d.) Available At: https://docs.python.org/3/library/stdtypes.html#str.isdigit Accessed: 30-3-19\n",
    "* Python for Beginners, (n.d.) Available At: https://www.youtube.com/watch?v=rfscVS0vtbw Accessed: 30-3-19 \n",
    "* Regular Expressions, (n.d.) Available At: https://regexr.com/ Accessed: 30-3-19\n",
    "* Python Tutorial, (n.d.) Available At: https://www.w3schools.com/python/default.asp Accessed: 30-3-19\n",
    "* What makes a password strong, (n.d.) Available At: https://www.technologyreview.com/s/542576/youve-been-misled-about-what-makes-a-good-password/ Accessed: 30-3-19\n",
    "* Problem calculating length, (n.d.) Available At: https://www.reddit.com/r/learnprogramming/comments/2g3l40/python_len_returns_the_wrong_value_while_working/ Accessed: 30-3-19\n"
   ]
  },
  {
   "cell_type": "code",
   "execution_count": 4,
   "metadata": {},
   "outputs": [
    {
     "name": "stdout",
     "output_type": "stream",
     "text": [
      "Enter a password:A1#fdsadfsfd\n"
     ]
    },
    {
     "data": {
      "text/markdown": [
       "<p style='color:green; font-size:16px;'><b>Password is valid</b>/p>"
      ],
      "text/plain": [
       "<IPython.core.display.Markdown object>"
      ]
     },
     "metadata": {},
     "output_type": "display_data"
    },
    {
     "name": "stdout",
     "output_type": "stream",
     "text": [
      "good strength\n"
     ]
    }
   ],
   "source": [
    "# Input Regular Expressions (Module):\n",
    "import re\n",
    "\n",
    "# Module to let me print out in colour and bold using HTML\n",
    "from IPython.display import Markdown, display\n",
    "def printmd(string):\n",
    "    display(Markdown(string))\n",
    "\n",
    "# Setting Variables:\n",
    "\n",
    "password = \"\"\n",
    "is_valid = True\n",
    "errors = []\n",
    "strength = \"\"\n",
    "\n",
    "# Getting password from user:\n",
    "\n",
    "password = input(\"Enter a password:\") \n",
    "\n",
    "# Note: Input is capturing the password that the user is typing and putting it into the password container\n",
    "\n",
    "# Testing password for length greater than or equal to 8:\n",
    "\n",
    "# Note: We need to use strip to remove carridge return from end of input otherwise the length is one more than it actually is\n",
    "\n",
    "if (len(password.strip()) < 8):\n",
    "    is_valid = False\n",
    "    errors.append(\"Password is less than 8 characters\")\n",
    "\n",
    "# Testing that the password has no white space:\n",
    "\n",
    "if (password.isspace()):\n",
    "    is_valid = False\n",
    "    errors.append(\"Password has White Space\")\n",
    "\n",
    "# Testing the password has at least one upper case letter:\n",
    "\n",
    "def hasUpper(inputString):\n",
    "    return any(char.isupper() for char in inputString)\n",
    "\n",
    "if (not(hasUpper(password))):\n",
    "    is_valid = False\n",
    "    errors.append(\"Password has no capital letter\")\n",
    "\n",
    "# Testing the password has at least one number:\n",
    "\n",
    "def hasNumbers(inputString):\n",
    "    return any(char.isdigit() for char in inputString)\n",
    "\n",
    "if (not(hasNumbers(password))):\n",
    "    is_valid = False\n",
    "    errors.append(\"Password has no number\") \n",
    "\n",
    "# Testing the password has at least one symbol:\n",
    "\n",
    "if ((not (re.search(\"[^a-zA-Z0-9\\s]\", password)))): \n",
    "    is_valid = False\n",
    "    errors.append(\"Password has no symbol\") \n",
    "\n",
    "# Testing the password only allowed symbols [$ # - _ & %]:\n",
    "\n",
    "if ((not (re.search(\"[$#\\-_&%]\", password)))):\n",
    "    is_valid = False\n",
    "    errors.append(\"Password has no correct symbol - $ # - _ & $\")\n",
    "\n",
    "# Working out password strength:\n",
    "\n",
    "# Strength Rules:\n",
    "#   Poor Password has only 8 length\n",
    "#   Good Password has between 8-12 Length\n",
    "#   Excellent Password has more than 12\n",
    "\n",
    "if (len(password.strip()) == 8):\n",
    "    strength = \"poor strength\"\n",
    "elif(len(password.strip()) > 8 and len(password) <= 12):\n",
    "    strength = \"good strength\"\n",
    "else:\n",
    "    strength = \"excellent strength\"   \n",
    "\n",
    "# Is password valid?, does password pass all tests, tell the user if good or not:\n",
    "\n",
    "if(is_valid == True):\n",
    "    printmd(\"<p style='color:green; font-size:16px;'><b>Password is valid</b></p>\")\n",
    "else:\n",
    "    printmd(\"<p style='color:red; font-size:16px;'><b>Password is not valid</b></p>\")\n",
    "\n",
    "# If valid, tell user password strength:\n",
    "\n",
    "if (is_valid == True):\n",
    "    printmd(\"<li style='color:red'><b>\" + strength \"</b></li>\")\n",
    "\n",
    "# If Invalid, tell them there is an error and what is wrong:\n",
    "\n",
    "if(is_valid == False):\n",
    "    for error in errors:\n",
    "        printmd(\"<li style='color:red'><b>\" + error + \"</b></li>\")\n",
    "\n"
   ]
  },
  {
   "cell_type": "markdown",
   "metadata": {},
   "source": [
    "## Tests:\n",
    "\n",
    "* Good Password: A1#fdsadfsfd\n",
    "* Bad Password: a1#fdsadfsfd - No capitals\n",
    "* Bad Password: Aa#fdsadfsfd - No numbers\n",
    "* Bad Password: A1dfdsadfsfd - No symbols\n",
    "* Bad Password: A1#f         - Less than 8\n",
    "* Bad Password: A1?fdsadfsfd - Wrong Symbol\n",
    "* Bad password: ersw         - Lots of things wrong\n",
    "* Poor Strength: A1#fdsad\n",
    "* Good Strength: A1#fdsadfsf\n",
    "* Excellent Strength: A1#fdsadfsfd12ffws2"
   ]
  },
  {
   "cell_type": "markdown",
   "metadata": {},
   "source": [
    "<a rel=\"license\" href=\"http://creativecommons.org/licenses/by-nc/4.0/\"><img alt=\"Creative Commons Licence\" style=\"border-width:0\" src=\"https://i.creativecommons.org/l/by-nc/4.0/88x31.png\" /></a><br />This work is licensed under a <a rel=\"license\" href=\"http://creativecommons.org/licenses/by-nc/4.0/\">Creative Commons Attribution-NonCommercial 4.0 International License</a>."
   ]
  }
 ],
 "metadata": {
  "kernelspec": {
   "display_name": "Python 3",
   "language": "python",
   "name": "python3"
  },
  "language_info": {
   "codemirror_mode": {
    "name": "ipython",
    "version": 3
   },
   "file_extension": ".py",
   "mimetype": "text/x-python",
   "name": "python",
   "nbconvert_exporter": "python",
   "pygments_lexer": "ipython3",
   "version": "3.7.1"
  }
 },
 "nbformat": 4,
 "nbformat_minor": 2
}
